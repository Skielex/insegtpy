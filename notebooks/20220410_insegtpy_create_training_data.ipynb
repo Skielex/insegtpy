{
 "cells": [
  {
   "cell_type": "markdown",
   "id": "980d8db3",
   "metadata": {},
   "source": [
    "# Interactively create traning data for building a model from multiple images\n",
    "\n",
    "Create the traininig data needed for running InSegtPy from multiple training data\n"
   ]
  },
  {
   "cell_type": "code",
   "execution_count": 1,
   "id": "e2ea292d",
   "metadata": {},
   "outputs": [],
   "source": [
    "# Import the modules needed \n",
    "import insegtpy\n",
    "import insegtpy.models\n",
    "import skimage.io\n",
    "import matplotlib.pyplot as plt\n",
    "import PIL\n",
    "import numpy as np\n",
    "import os\n",
    "import glob\n",
    "import pickle\n",
    "import time\n",
    "\n",
    "%matplotlib notebook"
   ]
  },
  {
   "cell_type": "code",
   "execution_count": 2,
   "id": "a924bda3",
   "metadata": {},
   "outputs": [
    {
     "name": "stdout",
     "output_type": "stream",
     "text": [
      "Bulding single-scale GaussFeatSegt model.\n",
      "Number of images 1\n",
      "Number of training patches 4096\n",
      "Number of layers 4 number of elements 780\n",
      "Adding propagation repetitions.\n",
      "Starting InSegt Annotator. For help, hit 'H'.\n"
     ]
    }
   ],
   "source": [
    "# Interactive labeling\n",
    "\n",
    "## Change to directory and image name of choice\n",
    "#dir_in = '/Users/abda/Documents/Center/QIM/data/20220408_fibers/Group_0' \n",
    "dir_in = '/Users/vand/Documents/PROJECTS2/InSegtPy/fibers_christian/Group_0'\n",
    "\n",
    "im_name = 'CFRP_00000.tiff'\n",
    "##\n",
    "\n",
    "image_train = skimage.io.imread(os.path.join(dir_in, im_name))\n",
    "\n",
    "# Segmentation model\n",
    "model = insegtpy.models.gauss_features_segmentor(image_train, \n",
    "                                   branching_factor = 5, \n",
    "                                   number_layers = 4,\n",
    "                                   number_training_vectors = 4096,\n",
    "                                   features_sigma = [1,2],\n",
    "                                   propagation_size = 9, \n",
    "                                   scales=[1],\n",
    "                                   propagation_repetitions=2)\n",
    "\n",
    "# Start the annotation GUI\n",
    "ex = insegtpy.insegt(image_train, model)"
   ]
  },
  {
   "cell_type": "code",
   "execution_count": 3,
   "id": "e4d7cc03",
   "metadata": {},
   "outputs": [],
   "source": [
    "#%% Create the labeled data to train from multiple images\n",
    "\n",
    "data_dirs = []\n",
    "data_dirs.append('/Users/abda/Documents/Center/QIM/data/20220408_fibers/Group_0/')\n",
    "data_dirs.append('/Users/abda/Documents/Center/QIM/data/20220408_fibers/Group_21/')\n",
    "\n",
    "im_dir = '/Users/abda/Documents/Center/QIM/data/20220408_fibers/train_images_1/'\n",
    "label_dir = '/Users/abda/Documents/Center/QIM/data/20220408_fibers/train_labels_1/'\n",
    "\n",
    "if not os.path.isdir(im_dir):\n",
    "    os.mkdir(im_dir[:-1])\n",
    "\n",
    "if not os.path.isdir(label_dir):\n",
    "    os.mkdir(label_dir[:-1])\n",
    "\n",
    "it = 0\n",
    "for data_dir in data_dirs:\n",
    "    im_names = glob.glob(data_dir + '*.tiff')\n",
    "    im_names.sort()\n",
    "    for i, im_name in enumerate(im_names):\n",
    "        im_new = np.array(PIL.Image.open(im_name))\n",
    "        prob = model.segment_new(im_new)\n",
    "        seg = insegtpy.utils.segment_probabilities(prob)\n",
    "        seg[seg==0] = 1\n",
    "        skimage.io.imsave(os.path.join(label_dir, f'label_{it:03d}.png'), (255*(seg-1)).astype(np.uint8))\n",
    "        skimage.io.imsave(os.path.join(im_dir, f'image_{it:03d}.png'), im_new.astype(np.uint8))\n",
    "        it += 1"
   ]
  },
  {
   "cell_type": "code",
   "execution_count": null,
   "id": "51d2f69f",
   "metadata": {},
   "outputs": [],
   "source": []
  }
 ],
 "metadata": {
  "kernelspec": {
   "display_name": "Python 3 (ipykernel)",
   "language": "python",
   "name": "python3"
  },
  "language_info": {
   "codemirror_mode": {
    "name": "ipython",
    "version": 3
   },
   "file_extension": ".py",
   "mimetype": "text/x-python",
   "name": "python",
   "nbconvert_exporter": "python",
   "pygments_lexer": "ipython3",
   "version": "3.8.5"
  }
 },
 "nbformat": 4,
 "nbformat_minor": 5
}
