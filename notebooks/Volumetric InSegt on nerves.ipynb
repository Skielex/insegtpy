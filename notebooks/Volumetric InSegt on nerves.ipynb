{
 "cells": [
  {
   "cell_type": "markdown",
   "id": "7df033fa",
   "metadata": {
    "tags": []
   },
   "source": [
    "# Using InSegt for volumetric segmentation\n",
    "\n",
    "Here we show how to use InSegt for slice-wise segmentation. This is an extension of the notebook on Multiscale Gauss features segmentation of nerves. \n"
   ]
  },
  {
   "cell_type": "code",
   "execution_count": 1,
   "id": "b8786b3b",
   "metadata": {},
   "outputs": [],
   "source": [
    "import insegtpy\n",
    "import insegtpy.models\n",
    "import urllib.request\n",
    "import PIL\n",
    "import numpy as np\n",
    "import matplotlib.pyplot as plt\n",
    "import tqdm\n",
    "\n",
    "%matplotlib inline"
   ]
  },
  {
   "cell_type": "markdown",
   "id": "d260a2a7",
   "metadata": {},
   "source": [
    "## Load the volume\n",
    "Load the volume from QIM 3D data repository. "
   ]
  },
  {
   "cell_type": "code",
   "execution_count": 23,
   "id": "ddb3cc96",
   "metadata": {},
   "outputs": [
    {
     "name": "stdout",
     "output_type": "stream",
     "text": [
      "Loading the volume...\n",
      "Volume shape is: (1024, 350, 350)\n",
      "Volume data type is: uint8\n",
      "Intensity range is: 0-236\n"
     ]
    }
   ],
   "source": [
    "url = 'https://qim.compute.dtu.dk/data-repository/InSegt_data/3D/nerves_part.tiff'\n",
    "print('Loading the volume...')\n",
    "\n",
    "volfile = PIL.Image.open(urllib.request.urlopen(url))\n",
    "\n",
    "h, w = np.shape(volfile)\n",
    "vol = []\n",
    "\n",
    "for i in range(volfile.n_frames):\n",
    "    volfile.seek(i)\n",
    "    vol.append(np.array(volfile))\n",
    "vol = np.array(vol)\n",
    "\n",
    "print(f'Volume shape is: {vol.shape}')\n",
    "print(f'Volume data type is: {vol.dtype}')\n",
    "print(f'Intensity range is: {vol.min()}-{vol.max()}')"
   ]
  },
  {
   "cell_type": "markdown",
   "id": "0e862379",
   "metadata": {},
   "source": [
    "## Visualize a few slices from the volume\n",
    "Show a few cross-sections of the volume. Also check the histogram."
   ]
  },
  {
   "cell_type": "code",
   "execution_count": null,
   "id": "ac2da989",
   "metadata": {},
   "outputs": [],
   "source": [
    "fig, ax = plt.subplots(1, 4, figsize=(15,5))\n",
    "ax[0].imshow(vol[512])\n",
    "ax[1].imshow(vol[:, 175,:])\n",
    "ax[2].imshow(vol[:, :, 175])\n",
    "ax[3].hist(vol.ravel(),np.arange(257)-0.5)\n",
    "plt.show()"
   ]
  },
  {
   "cell_type": "markdown",
   "id": "0d84dce3",
   "metadata": {},
   "source": [
    "## Build the model \n",
    "Build the model using one slice from the volume. This will extract and cluster features from the image. Here we use the slice with the index 0."
   ]
  },
  {
   "cell_type": "code",
   "execution_count": null,
   "id": "0da2cd68",
   "metadata": {},
   "outputs": [],
   "source": [
    "index = 0\n",
    "model = insegtpy.models.gauss_features_segmentor(vol[index], \n",
    "                                   branching_factor = 25, \n",
    "                                   number_layers = 3,\n",
    "                                   number_training_vectors = 40000,\n",
    "                                   features_sigma = [1,2,4,8], \n",
    "                                   propagation_size = 9, \n",
    "                                   scales = [1, 0.5, 0.25])"
   ]
  },
  {
   "cell_type": "markdown",
   "id": "ac610bc6",
   "metadata": {},
   "source": [
    "Train InSegt model by annotating the image. When you are sattisfied with the resulting segmentation, close InSegt window. "
   ]
  },
  {
   "cell_type": "code",
   "execution_count": null,
   "id": "45db6a2a",
   "metadata": {},
   "outputs": [],
   "source": [
    "ex = insegtpy.insegt(vol[index], model)"
   ]
  },
  {
   "cell_type": "markdown",
   "id": "b76eb805",
   "metadata": {},
   "source": [
    "## Segment all slices from the volume\n",
    "Use the trained model to segment all volume slices."
   ]
  },
  {
   "cell_type": "code",
   "execution_count": null,
   "id": "a771f4f2",
   "metadata": {},
   "outputs": [],
   "source": [
    "seg = []\n",
    "for v in tqdm.tqdm(vol):\n",
    "    prob = model.new_image_to_prob(v)\n",
    "    seg.append(insegtpy.utils.segment_probabilities(prob))\n",
    "seg = np.array(seg)"
   ]
  },
  {
   "cell_type": "markdown",
   "id": "5d1e3127",
   "metadata": {},
   "source": [
    "## Visualize a few slices from the segmentation\n",
    "Yay!"
   ]
  },
  {
   "cell_type": "code",
   "execution_count": null,
   "id": "0d64014f",
   "metadata": {},
   "outputs": [],
   "source": [
    "fig, ax = plt.subplots(1, 4, figsize=(15,5))\n",
    "ax[0].imshow(seg[512])\n",
    "ax[1].imshow(seg[:, 175,:])\n",
    "ax[2].imshow(seg[:, :, 175])\n",
    "ax[3].hist(seg.ravel(),np.arange(5)-0.5)\n",
    "plt.show()"
   ]
  },
  {
   "cell_type": "code",
   "execution_count": null,
   "id": "c9ba6447",
   "metadata": {},
   "outputs": [],
   "source": [
    "# import tifffile\n",
    "# tifffile.imwrite('seg.tiff', (seg*50).astype(np.uint8))\n",
    "# tifffile.imwrite('vol.tiff', vol)\n",
    "# tifffile.imwrite('probs.tiff', (probs*255).astype(np.uint8))\n"
   ]
  }
 ],
 "metadata": {
  "kernelspec": {
   "display_name": "Python 3",
   "language": "python",
   "name": "python3"
  },
  "language_info": {
   "codemirror_mode": {
    "name": "ipython",
    "version": 3
   },
   "file_extension": ".py",
   "mimetype": "text/x-python",
   "name": "python",
   "nbconvert_exporter": "python",
   "pygments_lexer": "ipython3",
   "version": "3.8.5"
  }
 },
 "nbformat": 4,
 "nbformat_minor": 5
}
